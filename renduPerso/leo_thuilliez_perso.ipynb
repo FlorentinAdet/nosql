{
  "nbformat": 4,
  "nbformat_minor": 0,
  "metadata": {
    "colab": {
      "provenance": []
    },
    "kernelspec": {
      "name": "python3",
      "display_name": "Python 3"
    },
    "language_info": {
      "name": "python"
    }
  },
  "cells": [
    {
      "cell_type": "code",
      "source": [
        "import pandas as pd\n",
        "!pip install panda"
      ],
      "metadata": {
        "colab": {
          "base_uri": "https://localhost:8080/"
        },
        "id": "2n4u7p3L7Rmk",
        "outputId": "459a99fd-4a76-4a9c-c5d0-16cebe229b66"
      },
      "execution_count": 2,
      "outputs": [
        {
          "output_type": "stream",
          "name": "stdout",
          "text": [
            "Collecting panda\n",
            "  Downloading panda-0.3.1.tar.gz (5.8 kB)\n",
            "  Preparing metadata (setup.py) ... \u001b[?25l\u001b[?25hdone\n",
            "Requirement already satisfied: setuptools in /usr/local/lib/python3.10/dist-packages (from panda) (67.7.2)\n",
            "Requirement already satisfied: requests in /usr/local/lib/python3.10/dist-packages (from panda) (2.31.0)\n",
            "Requirement already satisfied: charset-normalizer<4,>=2 in /usr/local/lib/python3.10/dist-packages (from requests->panda) (3.3.2)\n",
            "Requirement already satisfied: idna<4,>=2.5 in /usr/local/lib/python3.10/dist-packages (from requests->panda) (3.7)\n",
            "Requirement already satisfied: urllib3<3,>=1.21.1 in /usr/local/lib/python3.10/dist-packages (from requests->panda) (2.0.7)\n",
            "Requirement already satisfied: certifi>=2017.4.17 in /usr/local/lib/python3.10/dist-packages (from requests->panda) (2024.2.2)\n",
            "Building wheels for collected packages: panda\n",
            "  Building wheel for panda (setup.py) ... \u001b[?25l\u001b[?25hdone\n",
            "  Created wheel for panda: filename=panda-0.3.1-py3-none-any.whl size=7239 sha256=98006132b40199610c127f11b31efadab49926d411486f8c48abc2e24e8bf33d\n",
            "  Stored in directory: /root/.cache/pip/wheels/0e/8b/c3/ff9cbde1fffd8071cff8367a86f0350a1ce30a8d31b6a432e9\n",
            "Successfully built panda\n",
            "Installing collected packages: panda\n",
            "Successfully installed panda-0.3.1\n"
          ]
        }
      ]
    },
    {
      "cell_type": "code",
      "execution_count": 4,
      "metadata": {
        "id": "iTUViADTza1l"
      },
      "outputs": [],
      "source": [
        "df = pd.read_csv('usagers-2022.csv', sep=\";\")"
      ]
    },
    {
      "cell_type": "code",
      "source": [
        "df"
      ],
      "metadata": {
        "colab": {
          "base_uri": "https://localhost:8080/",
          "height": 444
        },
        "id": "VrcE0MHx7j97",
        "outputId": "8e1ec942-b9d3-4ce5-ecff-f1a838a366ba"
      },
      "execution_count": 5,
      "outputs": [
        {
          "output_type": "execute_result",
          "data": {
            "text/plain": [
              "             Num_Acc  id_usager id_vehicule num_veh  place  catu  grav  sexe  \\\n",
              "0       202200000001  1 099 700     813 952     A01      1     1     3     1   \n",
              "1       202200000001  1 099 701     813 953     B01      1     1     1     1   \n",
              "2       202200000002  1 099 698     813 950     B01      1     1     4     1   \n",
              "3       202200000002  1 099 699     813 951     A01      1     1     1     1   \n",
              "4       202200000003  1 099 696     813 948     A01      1     1     1     1   \n",
              "...              ...        ...         ...     ...    ...   ...   ...   ...   \n",
              "126657  202200055301    968 230     715 631     A01      1     1     1     2   \n",
              "126658  202200055301    968 231     715 631     A01      8     2     3     2   \n",
              "126659  202200055301    968 232     715 632     B01      1     1     4     2   \n",
              "126660  202200055302    968 228     715 629     A01      1     1     3     1   \n",
              "126661  202200055302    968 229     715 630     B01      1     1     1     1   \n",
              "\n",
              "        an_nais  trajet  secu1  secu2  secu3  locp actp  etatp  \n",
              "0        2008.0       5      2      8     -1    -1   -1     -1  \n",
              "1        1948.0       5      1      8     -1    -1   -1     -1  \n",
              "2        1988.0       9      1      0     -1     0    0     -1  \n",
              "3        1970.0       4      1      0     -1     0    0     -1  \n",
              "4        2002.0       0      1      0     -1    -1   -1     -1  \n",
              "...         ...     ...    ...    ...    ...   ...  ...    ...  \n",
              "126657   2002.0       5      1     -1     -1     0    0     -1  \n",
              "126658   2004.0       5      1     -1     -1     0    0     -1  \n",
              "126659   1953.0       5      1     -1     -1     0    0     -1  \n",
              "126660   1992.0       1      2      6     -1    -1   -1     -1  \n",
              "126661   2000.0      -1      1     -1     -1    -1   -1     -1  \n",
              "\n",
              "[126662 rows x 16 columns]"
            ],
            "text/html": [
              "\n",
              "  <div id=\"df-1e67388d-b287-4dd5-ab11-4b74732ebee9\" class=\"colab-df-container\">\n",
              "    <div>\n",
              "<style scoped>\n",
              "    .dataframe tbody tr th:only-of-type {\n",
              "        vertical-align: middle;\n",
              "    }\n",
              "\n",
              "    .dataframe tbody tr th {\n",
              "        vertical-align: top;\n",
              "    }\n",
              "\n",
              "    .dataframe thead th {\n",
              "        text-align: right;\n",
              "    }\n",
              "</style>\n",
              "<table border=\"1\" class=\"dataframe\">\n",
              "  <thead>\n",
              "    <tr style=\"text-align: right;\">\n",
              "      <th></th>\n",
              "      <th>Num_Acc</th>\n",
              "      <th>id_usager</th>\n",
              "      <th>id_vehicule</th>\n",
              "      <th>num_veh</th>\n",
              "      <th>place</th>\n",
              "      <th>catu</th>\n",
              "      <th>grav</th>\n",
              "      <th>sexe</th>\n",
              "      <th>an_nais</th>\n",
              "      <th>trajet</th>\n",
              "      <th>secu1</th>\n",
              "      <th>secu2</th>\n",
              "      <th>secu3</th>\n",
              "      <th>locp</th>\n",
              "      <th>actp</th>\n",
              "      <th>etatp</th>\n",
              "    </tr>\n",
              "  </thead>\n",
              "  <tbody>\n",
              "    <tr>\n",
              "      <th>0</th>\n",
              "      <td>202200000001</td>\n",
              "      <td>1 099 700</td>\n",
              "      <td>813 952</td>\n",
              "      <td>A01</td>\n",
              "      <td>1</td>\n",
              "      <td>1</td>\n",
              "      <td>3</td>\n",
              "      <td>1</td>\n",
              "      <td>2008.0</td>\n",
              "      <td>5</td>\n",
              "      <td>2</td>\n",
              "      <td>8</td>\n",
              "      <td>-1</td>\n",
              "      <td>-1</td>\n",
              "      <td>-1</td>\n",
              "      <td>-1</td>\n",
              "    </tr>\n",
              "    <tr>\n",
              "      <th>1</th>\n",
              "      <td>202200000001</td>\n",
              "      <td>1 099 701</td>\n",
              "      <td>813 953</td>\n",
              "      <td>B01</td>\n",
              "      <td>1</td>\n",
              "      <td>1</td>\n",
              "      <td>1</td>\n",
              "      <td>1</td>\n",
              "      <td>1948.0</td>\n",
              "      <td>5</td>\n",
              "      <td>1</td>\n",
              "      <td>8</td>\n",
              "      <td>-1</td>\n",
              "      <td>-1</td>\n",
              "      <td>-1</td>\n",
              "      <td>-1</td>\n",
              "    </tr>\n",
              "    <tr>\n",
              "      <th>2</th>\n",
              "      <td>202200000002</td>\n",
              "      <td>1 099 698</td>\n",
              "      <td>813 950</td>\n",
              "      <td>B01</td>\n",
              "      <td>1</td>\n",
              "      <td>1</td>\n",
              "      <td>4</td>\n",
              "      <td>1</td>\n",
              "      <td>1988.0</td>\n",
              "      <td>9</td>\n",
              "      <td>1</td>\n",
              "      <td>0</td>\n",
              "      <td>-1</td>\n",
              "      <td>0</td>\n",
              "      <td>0</td>\n",
              "      <td>-1</td>\n",
              "    </tr>\n",
              "    <tr>\n",
              "      <th>3</th>\n",
              "      <td>202200000002</td>\n",
              "      <td>1 099 699</td>\n",
              "      <td>813 951</td>\n",
              "      <td>A01</td>\n",
              "      <td>1</td>\n",
              "      <td>1</td>\n",
              "      <td>1</td>\n",
              "      <td>1</td>\n",
              "      <td>1970.0</td>\n",
              "      <td>4</td>\n",
              "      <td>1</td>\n",
              "      <td>0</td>\n",
              "      <td>-1</td>\n",
              "      <td>0</td>\n",
              "      <td>0</td>\n",
              "      <td>-1</td>\n",
              "    </tr>\n",
              "    <tr>\n",
              "      <th>4</th>\n",
              "      <td>202200000003</td>\n",
              "      <td>1 099 696</td>\n",
              "      <td>813 948</td>\n",
              "      <td>A01</td>\n",
              "      <td>1</td>\n",
              "      <td>1</td>\n",
              "      <td>1</td>\n",
              "      <td>1</td>\n",
              "      <td>2002.0</td>\n",
              "      <td>0</td>\n",
              "      <td>1</td>\n",
              "      <td>0</td>\n",
              "      <td>-1</td>\n",
              "      <td>-1</td>\n",
              "      <td>-1</td>\n",
              "      <td>-1</td>\n",
              "    </tr>\n",
              "    <tr>\n",
              "      <th>...</th>\n",
              "      <td>...</td>\n",
              "      <td>...</td>\n",
              "      <td>...</td>\n",
              "      <td>...</td>\n",
              "      <td>...</td>\n",
              "      <td>...</td>\n",
              "      <td>...</td>\n",
              "      <td>...</td>\n",
              "      <td>...</td>\n",
              "      <td>...</td>\n",
              "      <td>...</td>\n",
              "      <td>...</td>\n",
              "      <td>...</td>\n",
              "      <td>...</td>\n",
              "      <td>...</td>\n",
              "      <td>...</td>\n",
              "    </tr>\n",
              "    <tr>\n",
              "      <th>126657</th>\n",
              "      <td>202200055301</td>\n",
              "      <td>968 230</td>\n",
              "      <td>715 631</td>\n",
              "      <td>A01</td>\n",
              "      <td>1</td>\n",
              "      <td>1</td>\n",
              "      <td>1</td>\n",
              "      <td>2</td>\n",
              "      <td>2002.0</td>\n",
              "      <td>5</td>\n",
              "      <td>1</td>\n",
              "      <td>-1</td>\n",
              "      <td>-1</td>\n",
              "      <td>0</td>\n",
              "      <td>0</td>\n",
              "      <td>-1</td>\n",
              "    </tr>\n",
              "    <tr>\n",
              "      <th>126658</th>\n",
              "      <td>202200055301</td>\n",
              "      <td>968 231</td>\n",
              "      <td>715 631</td>\n",
              "      <td>A01</td>\n",
              "      <td>8</td>\n",
              "      <td>2</td>\n",
              "      <td>3</td>\n",
              "      <td>2</td>\n",
              "      <td>2004.0</td>\n",
              "      <td>5</td>\n",
              "      <td>1</td>\n",
              "      <td>-1</td>\n",
              "      <td>-1</td>\n",
              "      <td>0</td>\n",
              "      <td>0</td>\n",
              "      <td>-1</td>\n",
              "    </tr>\n",
              "    <tr>\n",
              "      <th>126659</th>\n",
              "      <td>202200055301</td>\n",
              "      <td>968 232</td>\n",
              "      <td>715 632</td>\n",
              "      <td>B01</td>\n",
              "      <td>1</td>\n",
              "      <td>1</td>\n",
              "      <td>4</td>\n",
              "      <td>2</td>\n",
              "      <td>1953.0</td>\n",
              "      <td>5</td>\n",
              "      <td>1</td>\n",
              "      <td>-1</td>\n",
              "      <td>-1</td>\n",
              "      <td>0</td>\n",
              "      <td>0</td>\n",
              "      <td>-1</td>\n",
              "    </tr>\n",
              "    <tr>\n",
              "      <th>126660</th>\n",
              "      <td>202200055302</td>\n",
              "      <td>968 228</td>\n",
              "      <td>715 629</td>\n",
              "      <td>A01</td>\n",
              "      <td>1</td>\n",
              "      <td>1</td>\n",
              "      <td>3</td>\n",
              "      <td>1</td>\n",
              "      <td>1992.0</td>\n",
              "      <td>1</td>\n",
              "      <td>2</td>\n",
              "      <td>6</td>\n",
              "      <td>-1</td>\n",
              "      <td>-1</td>\n",
              "      <td>-1</td>\n",
              "      <td>-1</td>\n",
              "    </tr>\n",
              "    <tr>\n",
              "      <th>126661</th>\n",
              "      <td>202200055302</td>\n",
              "      <td>968 229</td>\n",
              "      <td>715 630</td>\n",
              "      <td>B01</td>\n",
              "      <td>1</td>\n",
              "      <td>1</td>\n",
              "      <td>1</td>\n",
              "      <td>1</td>\n",
              "      <td>2000.0</td>\n",
              "      <td>-1</td>\n",
              "      <td>1</td>\n",
              "      <td>-1</td>\n",
              "      <td>-1</td>\n",
              "      <td>-1</td>\n",
              "      <td>-1</td>\n",
              "      <td>-1</td>\n",
              "    </tr>\n",
              "  </tbody>\n",
              "</table>\n",
              "<p>126662 rows × 16 columns</p>\n",
              "</div>\n",
              "    <div class=\"colab-df-buttons\">\n",
              "\n",
              "  <div class=\"colab-df-container\">\n",
              "    <button class=\"colab-df-convert\" onclick=\"convertToInteractive('df-1e67388d-b287-4dd5-ab11-4b74732ebee9')\"\n",
              "            title=\"Convert this dataframe to an interactive table.\"\n",
              "            style=\"display:none;\">\n",
              "\n",
              "  <svg xmlns=\"http://www.w3.org/2000/svg\" height=\"24px\" viewBox=\"0 -960 960 960\">\n",
              "    <path d=\"M120-120v-720h720v720H120Zm60-500h600v-160H180v160Zm220 220h160v-160H400v160Zm0 220h160v-160H400v160ZM180-400h160v-160H180v160Zm440 0h160v-160H620v160ZM180-180h160v-160H180v160Zm440 0h160v-160H620v160Z\"/>\n",
              "  </svg>\n",
              "    </button>\n",
              "\n",
              "  <style>\n",
              "    .colab-df-container {\n",
              "      display:flex;\n",
              "      gap: 12px;\n",
              "    }\n",
              "\n",
              "    .colab-df-convert {\n",
              "      background-color: #E8F0FE;\n",
              "      border: none;\n",
              "      border-radius: 50%;\n",
              "      cursor: pointer;\n",
              "      display: none;\n",
              "      fill: #1967D2;\n",
              "      height: 32px;\n",
              "      padding: 0 0 0 0;\n",
              "      width: 32px;\n",
              "    }\n",
              "\n",
              "    .colab-df-convert:hover {\n",
              "      background-color: #E2EBFA;\n",
              "      box-shadow: 0px 1px 2px rgba(60, 64, 67, 0.3), 0px 1px 3px 1px rgba(60, 64, 67, 0.15);\n",
              "      fill: #174EA6;\n",
              "    }\n",
              "\n",
              "    .colab-df-buttons div {\n",
              "      margin-bottom: 4px;\n",
              "    }\n",
              "\n",
              "    [theme=dark] .colab-df-convert {\n",
              "      background-color: #3B4455;\n",
              "      fill: #D2E3FC;\n",
              "    }\n",
              "\n",
              "    [theme=dark] .colab-df-convert:hover {\n",
              "      background-color: #434B5C;\n",
              "      box-shadow: 0px 1px 3px 1px rgba(0, 0, 0, 0.15);\n",
              "      filter: drop-shadow(0px 1px 2px rgba(0, 0, 0, 0.3));\n",
              "      fill: #FFFFFF;\n",
              "    }\n",
              "  </style>\n",
              "\n",
              "    <script>\n",
              "      const buttonEl =\n",
              "        document.querySelector('#df-1e67388d-b287-4dd5-ab11-4b74732ebee9 button.colab-df-convert');\n",
              "      buttonEl.style.display =\n",
              "        google.colab.kernel.accessAllowed ? 'block' : 'none';\n",
              "\n",
              "      async function convertToInteractive(key) {\n",
              "        const element = document.querySelector('#df-1e67388d-b287-4dd5-ab11-4b74732ebee9');\n",
              "        const dataTable =\n",
              "          await google.colab.kernel.invokeFunction('convertToInteractive',\n",
              "                                                    [key], {});\n",
              "        if (!dataTable) return;\n",
              "\n",
              "        const docLinkHtml = 'Like what you see? Visit the ' +\n",
              "          '<a target=\"_blank\" href=https://colab.research.google.com/notebooks/data_table.ipynb>data table notebook</a>'\n",
              "          + ' to learn more about interactive tables.';\n",
              "        element.innerHTML = '';\n",
              "        dataTable['output_type'] = 'display_data';\n",
              "        await google.colab.output.renderOutput(dataTable, element);\n",
              "        const docLink = document.createElement('div');\n",
              "        docLink.innerHTML = docLinkHtml;\n",
              "        element.appendChild(docLink);\n",
              "      }\n",
              "    </script>\n",
              "  </div>\n",
              "\n",
              "\n",
              "<div id=\"df-7b3abf9f-9cee-4483-920b-cb143ecfca97\">\n",
              "  <button class=\"colab-df-quickchart\" onclick=\"quickchart('df-7b3abf9f-9cee-4483-920b-cb143ecfca97')\"\n",
              "            title=\"Suggest charts\"\n",
              "            style=\"display:none;\">\n",
              "\n",
              "<svg xmlns=\"http://www.w3.org/2000/svg\" height=\"24px\"viewBox=\"0 0 24 24\"\n",
              "     width=\"24px\">\n",
              "    <g>\n",
              "        <path d=\"M19 3H5c-1.1 0-2 .9-2 2v14c0 1.1.9 2 2 2h14c1.1 0 2-.9 2-2V5c0-1.1-.9-2-2-2zM9 17H7v-7h2v7zm4 0h-2V7h2v10zm4 0h-2v-4h2v4z\"/>\n",
              "    </g>\n",
              "</svg>\n",
              "  </button>\n",
              "\n",
              "<style>\n",
              "  .colab-df-quickchart {\n",
              "      --bg-color: #E8F0FE;\n",
              "      --fill-color: #1967D2;\n",
              "      --hover-bg-color: #E2EBFA;\n",
              "      --hover-fill-color: #174EA6;\n",
              "      --disabled-fill-color: #AAA;\n",
              "      --disabled-bg-color: #DDD;\n",
              "  }\n",
              "\n",
              "  [theme=dark] .colab-df-quickchart {\n",
              "      --bg-color: #3B4455;\n",
              "      --fill-color: #D2E3FC;\n",
              "      --hover-bg-color: #434B5C;\n",
              "      --hover-fill-color: #FFFFFF;\n",
              "      --disabled-bg-color: #3B4455;\n",
              "      --disabled-fill-color: #666;\n",
              "  }\n",
              "\n",
              "  .colab-df-quickchart {\n",
              "    background-color: var(--bg-color);\n",
              "    border: none;\n",
              "    border-radius: 50%;\n",
              "    cursor: pointer;\n",
              "    display: none;\n",
              "    fill: var(--fill-color);\n",
              "    height: 32px;\n",
              "    padding: 0;\n",
              "    width: 32px;\n",
              "  }\n",
              "\n",
              "  .colab-df-quickchart:hover {\n",
              "    background-color: var(--hover-bg-color);\n",
              "    box-shadow: 0 1px 2px rgba(60, 64, 67, 0.3), 0 1px 3px 1px rgba(60, 64, 67, 0.15);\n",
              "    fill: var(--button-hover-fill-color);\n",
              "  }\n",
              "\n",
              "  .colab-df-quickchart-complete:disabled,\n",
              "  .colab-df-quickchart-complete:disabled:hover {\n",
              "    background-color: var(--disabled-bg-color);\n",
              "    fill: var(--disabled-fill-color);\n",
              "    box-shadow: none;\n",
              "  }\n",
              "\n",
              "  .colab-df-spinner {\n",
              "    border: 2px solid var(--fill-color);\n",
              "    border-color: transparent;\n",
              "    border-bottom-color: var(--fill-color);\n",
              "    animation:\n",
              "      spin 1s steps(1) infinite;\n",
              "  }\n",
              "\n",
              "  @keyframes spin {\n",
              "    0% {\n",
              "      border-color: transparent;\n",
              "      border-bottom-color: var(--fill-color);\n",
              "      border-left-color: var(--fill-color);\n",
              "    }\n",
              "    20% {\n",
              "      border-color: transparent;\n",
              "      border-left-color: var(--fill-color);\n",
              "      border-top-color: var(--fill-color);\n",
              "    }\n",
              "    30% {\n",
              "      border-color: transparent;\n",
              "      border-left-color: var(--fill-color);\n",
              "      border-top-color: var(--fill-color);\n",
              "      border-right-color: var(--fill-color);\n",
              "    }\n",
              "    40% {\n",
              "      border-color: transparent;\n",
              "      border-right-color: var(--fill-color);\n",
              "      border-top-color: var(--fill-color);\n",
              "    }\n",
              "    60% {\n",
              "      border-color: transparent;\n",
              "      border-right-color: var(--fill-color);\n",
              "    }\n",
              "    80% {\n",
              "      border-color: transparent;\n",
              "      border-right-color: var(--fill-color);\n",
              "      border-bottom-color: var(--fill-color);\n",
              "    }\n",
              "    90% {\n",
              "      border-color: transparent;\n",
              "      border-bottom-color: var(--fill-color);\n",
              "    }\n",
              "  }\n",
              "</style>\n",
              "\n",
              "  <script>\n",
              "    async function quickchart(key) {\n",
              "      const quickchartButtonEl =\n",
              "        document.querySelector('#' + key + ' button');\n",
              "      quickchartButtonEl.disabled = true;  // To prevent multiple clicks.\n",
              "      quickchartButtonEl.classList.add('colab-df-spinner');\n",
              "      try {\n",
              "        const charts = await google.colab.kernel.invokeFunction(\n",
              "            'suggestCharts', [key], {});\n",
              "      } catch (error) {\n",
              "        console.error('Error during call to suggestCharts:', error);\n",
              "      }\n",
              "      quickchartButtonEl.classList.remove('colab-df-spinner');\n",
              "      quickchartButtonEl.classList.add('colab-df-quickchart-complete');\n",
              "    }\n",
              "    (() => {\n",
              "      let quickchartButtonEl =\n",
              "        document.querySelector('#df-7b3abf9f-9cee-4483-920b-cb143ecfca97 button');\n",
              "      quickchartButtonEl.style.display =\n",
              "        google.colab.kernel.accessAllowed ? 'block' : 'none';\n",
              "    })();\n",
              "  </script>\n",
              "</div>\n",
              "    </div>\n",
              "  </div>\n"
            ],
            "application/vnd.google.colaboratory.intrinsic+json": {
              "type": "dataframe",
              "variable_name": "df"
            }
          },
          "metadata": {},
          "execution_count": 5
        }
      ]
    },
    {
      "cell_type": "code",
      "source": [
        "df.describe()"
      ],
      "metadata": {
        "colab": {
          "base_uri": "https://localhost:8080/",
          "height": 320
        },
        "id": "tullox5y7g3q",
        "outputId": "f6e0078a-94c0-4806-8b88-201b93cc0059"
      },
      "execution_count": 6,
      "outputs": [
        {
          "output_type": "execute_result",
          "data": {
            "text/plain": [
              "            Num_Acc          place           catu           grav  \\\n",
              "count  1.266620e+05  126662.000000  126662.000000  126662.000000   \n",
              "mean   2.022000e+11       2.089277       1.330067       2.512143   \n",
              "std    1.593056e+04       2.583156       0.610060       1.381566   \n",
              "min    2.022000e+11      -1.000000       1.000000      -1.000000   \n",
              "25%    2.022000e+11       1.000000       1.000000       1.000000   \n",
              "50%    2.022000e+11       1.000000       1.000000       3.000000   \n",
              "75%    2.022000e+11       2.000000       2.000000       4.000000   \n",
              "max    2.022001e+11      10.000000       3.000000       4.000000   \n",
              "\n",
              "                sexe        an_nais         trajet          secu1  \\\n",
              "count  126662.000000  123788.000000  126662.000000  126662.000000   \n",
              "mean        1.265549    1983.432756       3.174749       1.847586   \n",
              "std         0.570105      18.989238       2.780135       2.283796   \n",
              "min        -1.000000    1913.000000      -1.000000      -1.000000   \n",
              "25%         1.000000    1970.000000       0.000000       1.000000   \n",
              "50%         1.000000    1987.000000       4.000000       1.000000   \n",
              "75%         2.000000    1999.000000       5.000000       2.000000   \n",
              "max         2.000000    2022.000000       9.000000       9.000000   \n",
              "\n",
              "               secu2          secu3           locp          etatp  \n",
              "count  126662.000000  126662.000000  126662.000000  126662.000000  \n",
              "mean        0.844665      -0.916352      -0.158801      -0.829815  \n",
              "std         2.957905       0.883369       1.204472       0.615546  \n",
              "min        -1.000000      -1.000000      -1.000000      -1.000000  \n",
              "25%        -1.000000      -1.000000      -1.000000      -1.000000  \n",
              "50%         0.000000      -1.000000       0.000000      -1.000000  \n",
              "75%         0.000000      -1.000000       0.000000      -1.000000  \n",
              "max         9.000000       9.000000       9.000000       3.000000  "
            ],
            "text/html": [
              "\n",
              "  <div id=\"df-cd26bb04-5e10-4efc-bcd4-d6d489ea01cc\" class=\"colab-df-container\">\n",
              "    <div>\n",
              "<style scoped>\n",
              "    .dataframe tbody tr th:only-of-type {\n",
              "        vertical-align: middle;\n",
              "    }\n",
              "\n",
              "    .dataframe tbody tr th {\n",
              "        vertical-align: top;\n",
              "    }\n",
              "\n",
              "    .dataframe thead th {\n",
              "        text-align: right;\n",
              "    }\n",
              "</style>\n",
              "<table border=\"1\" class=\"dataframe\">\n",
              "  <thead>\n",
              "    <tr style=\"text-align: right;\">\n",
              "      <th></th>\n",
              "      <th>Num_Acc</th>\n",
              "      <th>place</th>\n",
              "      <th>catu</th>\n",
              "      <th>grav</th>\n",
              "      <th>sexe</th>\n",
              "      <th>an_nais</th>\n",
              "      <th>trajet</th>\n",
              "      <th>secu1</th>\n",
              "      <th>secu2</th>\n",
              "      <th>secu3</th>\n",
              "      <th>locp</th>\n",
              "      <th>etatp</th>\n",
              "    </tr>\n",
              "  </thead>\n",
              "  <tbody>\n",
              "    <tr>\n",
              "      <th>count</th>\n",
              "      <td>1.266620e+05</td>\n",
              "      <td>126662.000000</td>\n",
              "      <td>126662.000000</td>\n",
              "      <td>126662.000000</td>\n",
              "      <td>126662.000000</td>\n",
              "      <td>123788.000000</td>\n",
              "      <td>126662.000000</td>\n",
              "      <td>126662.000000</td>\n",
              "      <td>126662.000000</td>\n",
              "      <td>126662.000000</td>\n",
              "      <td>126662.000000</td>\n",
              "      <td>126662.000000</td>\n",
              "    </tr>\n",
              "    <tr>\n",
              "      <th>mean</th>\n",
              "      <td>2.022000e+11</td>\n",
              "      <td>2.089277</td>\n",
              "      <td>1.330067</td>\n",
              "      <td>2.512143</td>\n",
              "      <td>1.265549</td>\n",
              "      <td>1983.432756</td>\n",
              "      <td>3.174749</td>\n",
              "      <td>1.847586</td>\n",
              "      <td>0.844665</td>\n",
              "      <td>-0.916352</td>\n",
              "      <td>-0.158801</td>\n",
              "      <td>-0.829815</td>\n",
              "    </tr>\n",
              "    <tr>\n",
              "      <th>std</th>\n",
              "      <td>1.593056e+04</td>\n",
              "      <td>2.583156</td>\n",
              "      <td>0.610060</td>\n",
              "      <td>1.381566</td>\n",
              "      <td>0.570105</td>\n",
              "      <td>18.989238</td>\n",
              "      <td>2.780135</td>\n",
              "      <td>2.283796</td>\n",
              "      <td>2.957905</td>\n",
              "      <td>0.883369</td>\n",
              "      <td>1.204472</td>\n",
              "      <td>0.615546</td>\n",
              "    </tr>\n",
              "    <tr>\n",
              "      <th>min</th>\n",
              "      <td>2.022000e+11</td>\n",
              "      <td>-1.000000</td>\n",
              "      <td>1.000000</td>\n",
              "      <td>-1.000000</td>\n",
              "      <td>-1.000000</td>\n",
              "      <td>1913.000000</td>\n",
              "      <td>-1.000000</td>\n",
              "      <td>-1.000000</td>\n",
              "      <td>-1.000000</td>\n",
              "      <td>-1.000000</td>\n",
              "      <td>-1.000000</td>\n",
              "      <td>-1.000000</td>\n",
              "    </tr>\n",
              "    <tr>\n",
              "      <th>25%</th>\n",
              "      <td>2.022000e+11</td>\n",
              "      <td>1.000000</td>\n",
              "      <td>1.000000</td>\n",
              "      <td>1.000000</td>\n",
              "      <td>1.000000</td>\n",
              "      <td>1970.000000</td>\n",
              "      <td>0.000000</td>\n",
              "      <td>1.000000</td>\n",
              "      <td>-1.000000</td>\n",
              "      <td>-1.000000</td>\n",
              "      <td>-1.000000</td>\n",
              "      <td>-1.000000</td>\n",
              "    </tr>\n",
              "    <tr>\n",
              "      <th>50%</th>\n",
              "      <td>2.022000e+11</td>\n",
              "      <td>1.000000</td>\n",
              "      <td>1.000000</td>\n",
              "      <td>3.000000</td>\n",
              "      <td>1.000000</td>\n",
              "      <td>1987.000000</td>\n",
              "      <td>4.000000</td>\n",
              "      <td>1.000000</td>\n",
              "      <td>0.000000</td>\n",
              "      <td>-1.000000</td>\n",
              "      <td>0.000000</td>\n",
              "      <td>-1.000000</td>\n",
              "    </tr>\n",
              "    <tr>\n",
              "      <th>75%</th>\n",
              "      <td>2.022000e+11</td>\n",
              "      <td>2.000000</td>\n",
              "      <td>2.000000</td>\n",
              "      <td>4.000000</td>\n",
              "      <td>2.000000</td>\n",
              "      <td>1999.000000</td>\n",
              "      <td>5.000000</td>\n",
              "      <td>2.000000</td>\n",
              "      <td>0.000000</td>\n",
              "      <td>-1.000000</td>\n",
              "      <td>0.000000</td>\n",
              "      <td>-1.000000</td>\n",
              "    </tr>\n",
              "    <tr>\n",
              "      <th>max</th>\n",
              "      <td>2.022001e+11</td>\n",
              "      <td>10.000000</td>\n",
              "      <td>3.000000</td>\n",
              "      <td>4.000000</td>\n",
              "      <td>2.000000</td>\n",
              "      <td>2022.000000</td>\n",
              "      <td>9.000000</td>\n",
              "      <td>9.000000</td>\n",
              "      <td>9.000000</td>\n",
              "      <td>9.000000</td>\n",
              "      <td>9.000000</td>\n",
              "      <td>3.000000</td>\n",
              "    </tr>\n",
              "  </tbody>\n",
              "</table>\n",
              "</div>\n",
              "    <div class=\"colab-df-buttons\">\n",
              "\n",
              "  <div class=\"colab-df-container\">\n",
              "    <button class=\"colab-df-convert\" onclick=\"convertToInteractive('df-cd26bb04-5e10-4efc-bcd4-d6d489ea01cc')\"\n",
              "            title=\"Convert this dataframe to an interactive table.\"\n",
              "            style=\"display:none;\">\n",
              "\n",
              "  <svg xmlns=\"http://www.w3.org/2000/svg\" height=\"24px\" viewBox=\"0 -960 960 960\">\n",
              "    <path d=\"M120-120v-720h720v720H120Zm60-500h600v-160H180v160Zm220 220h160v-160H400v160Zm0 220h160v-160H400v160ZM180-400h160v-160H180v160Zm440 0h160v-160H620v160ZM180-180h160v-160H180v160Zm440 0h160v-160H620v160Z\"/>\n",
              "  </svg>\n",
              "    </button>\n",
              "\n",
              "  <style>\n",
              "    .colab-df-container {\n",
              "      display:flex;\n",
              "      gap: 12px;\n",
              "    }\n",
              "\n",
              "    .colab-df-convert {\n",
              "      background-color: #E8F0FE;\n",
              "      border: none;\n",
              "      border-radius: 50%;\n",
              "      cursor: pointer;\n",
              "      display: none;\n",
              "      fill: #1967D2;\n",
              "      height: 32px;\n",
              "      padding: 0 0 0 0;\n",
              "      width: 32px;\n",
              "    }\n",
              "\n",
              "    .colab-df-convert:hover {\n",
              "      background-color: #E2EBFA;\n",
              "      box-shadow: 0px 1px 2px rgba(60, 64, 67, 0.3), 0px 1px 3px 1px rgba(60, 64, 67, 0.15);\n",
              "      fill: #174EA6;\n",
              "    }\n",
              "\n",
              "    .colab-df-buttons div {\n",
              "      margin-bottom: 4px;\n",
              "    }\n",
              "\n",
              "    [theme=dark] .colab-df-convert {\n",
              "      background-color: #3B4455;\n",
              "      fill: #D2E3FC;\n",
              "    }\n",
              "\n",
              "    [theme=dark] .colab-df-convert:hover {\n",
              "      background-color: #434B5C;\n",
              "      box-shadow: 0px 1px 3px 1px rgba(0, 0, 0, 0.15);\n",
              "      filter: drop-shadow(0px 1px 2px rgba(0, 0, 0, 0.3));\n",
              "      fill: #FFFFFF;\n",
              "    }\n",
              "  </style>\n",
              "\n",
              "    <script>\n",
              "      const buttonEl =\n",
              "        document.querySelector('#df-cd26bb04-5e10-4efc-bcd4-d6d489ea01cc button.colab-df-convert');\n",
              "      buttonEl.style.display =\n",
              "        google.colab.kernel.accessAllowed ? 'block' : 'none';\n",
              "\n",
              "      async function convertToInteractive(key) {\n",
              "        const element = document.querySelector('#df-cd26bb04-5e10-4efc-bcd4-d6d489ea01cc');\n",
              "        const dataTable =\n",
              "          await google.colab.kernel.invokeFunction('convertToInteractive',\n",
              "                                                    [key], {});\n",
              "        if (!dataTable) return;\n",
              "\n",
              "        const docLinkHtml = 'Like what you see? Visit the ' +\n",
              "          '<a target=\"_blank\" href=https://colab.research.google.com/notebooks/data_table.ipynb>data table notebook</a>'\n",
              "          + ' to learn more about interactive tables.';\n",
              "        element.innerHTML = '';\n",
              "        dataTable['output_type'] = 'display_data';\n",
              "        await google.colab.output.renderOutput(dataTable, element);\n",
              "        const docLink = document.createElement('div');\n",
              "        docLink.innerHTML = docLinkHtml;\n",
              "        element.appendChild(docLink);\n",
              "      }\n",
              "    </script>\n",
              "  </div>\n",
              "\n",
              "\n",
              "<div id=\"df-3433497f-e499-4756-96d7-8f1a264771fb\">\n",
              "  <button class=\"colab-df-quickchart\" onclick=\"quickchart('df-3433497f-e499-4756-96d7-8f1a264771fb')\"\n",
              "            title=\"Suggest charts\"\n",
              "            style=\"display:none;\">\n",
              "\n",
              "<svg xmlns=\"http://www.w3.org/2000/svg\" height=\"24px\"viewBox=\"0 0 24 24\"\n",
              "     width=\"24px\">\n",
              "    <g>\n",
              "        <path d=\"M19 3H5c-1.1 0-2 .9-2 2v14c0 1.1.9 2 2 2h14c1.1 0 2-.9 2-2V5c0-1.1-.9-2-2-2zM9 17H7v-7h2v7zm4 0h-2V7h2v10zm4 0h-2v-4h2v4z\"/>\n",
              "    </g>\n",
              "</svg>\n",
              "  </button>\n",
              "\n",
              "<style>\n",
              "  .colab-df-quickchart {\n",
              "      --bg-color: #E8F0FE;\n",
              "      --fill-color: #1967D2;\n",
              "      --hover-bg-color: #E2EBFA;\n",
              "      --hover-fill-color: #174EA6;\n",
              "      --disabled-fill-color: #AAA;\n",
              "      --disabled-bg-color: #DDD;\n",
              "  }\n",
              "\n",
              "  [theme=dark] .colab-df-quickchart {\n",
              "      --bg-color: #3B4455;\n",
              "      --fill-color: #D2E3FC;\n",
              "      --hover-bg-color: #434B5C;\n",
              "      --hover-fill-color: #FFFFFF;\n",
              "      --disabled-bg-color: #3B4455;\n",
              "      --disabled-fill-color: #666;\n",
              "  }\n",
              "\n",
              "  .colab-df-quickchart {\n",
              "    background-color: var(--bg-color);\n",
              "    border: none;\n",
              "    border-radius: 50%;\n",
              "    cursor: pointer;\n",
              "    display: none;\n",
              "    fill: var(--fill-color);\n",
              "    height: 32px;\n",
              "    padding: 0;\n",
              "    width: 32px;\n",
              "  }\n",
              "\n",
              "  .colab-df-quickchart:hover {\n",
              "    background-color: var(--hover-bg-color);\n",
              "    box-shadow: 0 1px 2px rgba(60, 64, 67, 0.3), 0 1px 3px 1px rgba(60, 64, 67, 0.15);\n",
              "    fill: var(--button-hover-fill-color);\n",
              "  }\n",
              "\n",
              "  .colab-df-quickchart-complete:disabled,\n",
              "  .colab-df-quickchart-complete:disabled:hover {\n",
              "    background-color: var(--disabled-bg-color);\n",
              "    fill: var(--disabled-fill-color);\n",
              "    box-shadow: none;\n",
              "  }\n",
              "\n",
              "  .colab-df-spinner {\n",
              "    border: 2px solid var(--fill-color);\n",
              "    border-color: transparent;\n",
              "    border-bottom-color: var(--fill-color);\n",
              "    animation:\n",
              "      spin 1s steps(1) infinite;\n",
              "  }\n",
              "\n",
              "  @keyframes spin {\n",
              "    0% {\n",
              "      border-color: transparent;\n",
              "      border-bottom-color: var(--fill-color);\n",
              "      border-left-color: var(--fill-color);\n",
              "    }\n",
              "    20% {\n",
              "      border-color: transparent;\n",
              "      border-left-color: var(--fill-color);\n",
              "      border-top-color: var(--fill-color);\n",
              "    }\n",
              "    30% {\n",
              "      border-color: transparent;\n",
              "      border-left-color: var(--fill-color);\n",
              "      border-top-color: var(--fill-color);\n",
              "      border-right-color: var(--fill-color);\n",
              "    }\n",
              "    40% {\n",
              "      border-color: transparent;\n",
              "      border-right-color: var(--fill-color);\n",
              "      border-top-color: var(--fill-color);\n",
              "    }\n",
              "    60% {\n",
              "      border-color: transparent;\n",
              "      border-right-color: var(--fill-color);\n",
              "    }\n",
              "    80% {\n",
              "      border-color: transparent;\n",
              "      border-right-color: var(--fill-color);\n",
              "      border-bottom-color: var(--fill-color);\n",
              "    }\n",
              "    90% {\n",
              "      border-color: transparent;\n",
              "      border-bottom-color: var(--fill-color);\n",
              "    }\n",
              "  }\n",
              "</style>\n",
              "\n",
              "  <script>\n",
              "    async function quickchart(key) {\n",
              "      const quickchartButtonEl =\n",
              "        document.querySelector('#' + key + ' button');\n",
              "      quickchartButtonEl.disabled = true;  // To prevent multiple clicks.\n",
              "      quickchartButtonEl.classList.add('colab-df-spinner');\n",
              "      try {\n",
              "        const charts = await google.colab.kernel.invokeFunction(\n",
              "            'suggestCharts', [key], {});\n",
              "      } catch (error) {\n",
              "        console.error('Error during call to suggestCharts:', error);\n",
              "      }\n",
              "      quickchartButtonEl.classList.remove('colab-df-spinner');\n",
              "      quickchartButtonEl.classList.add('colab-df-quickchart-complete');\n",
              "    }\n",
              "    (() => {\n",
              "      let quickchartButtonEl =\n",
              "        document.querySelector('#df-3433497f-e499-4756-96d7-8f1a264771fb button');\n",
              "      quickchartButtonEl.style.display =\n",
              "        google.colab.kernel.accessAllowed ? 'block' : 'none';\n",
              "    })();\n",
              "  </script>\n",
              "</div>\n",
              "    </div>\n",
              "  </div>\n"
            ],
            "application/vnd.google.colaboratory.intrinsic+json": {
              "type": "dataframe",
              "summary": "{\n  \"name\": \"df\",\n  \"rows\": 8,\n  \"fields\": [\n    {\n      \"column\": \"Num_Acc\",\n      \"properties\": {\n        \"dtype\": \"number\",\n        \"std\": 93600391904.48508,\n        \"min\": 15930.564007580402,\n        \"max\": 202200055302.0,\n        \"num_unique_values\": 8,\n        \"samples\": [\n          202200027708.2565,\n          202200027742.0,\n          126662.0\n        ],\n        \"semantic_type\": \"\",\n        \"description\": \"\"\n      }\n    },\n    {\n      \"column\": \"place\",\n      \"properties\": {\n        \"dtype\": \"number\",\n        \"std\": 44780.88708376161,\n        \"min\": -1.0,\n        \"max\": 126662.0,\n        \"num_unique_values\": 7,\n        \"samples\": [\n          126662.0,\n          2.0892769733621765,\n          2.0\n        ],\n        \"semantic_type\": \"\",\n        \"description\": \"\"\n      }\n    },\n    {\n      \"column\": \"catu\",\n      \"properties\": {\n        \"dtype\": \"number\",\n        \"std\": 44781.277513483146,\n        \"min\": 0.6100602658378669,\n        \"max\": 126662.0,\n        \"num_unique_values\": 6,\n        \"samples\": [\n          126662.0,\n          1.3300674235366565,\n          3.0\n        ],\n        \"semantic_type\": \"\",\n        \"description\": \"\"\n      }\n    },\n    {\n      \"column\": \"grav\",\n      \"properties\": {\n        \"dtype\": \"number\",\n        \"std\": 44781.02734461894,\n        \"min\": -1.0,\n        \"max\": 126662.0,\n        \"num_unique_values\": 7,\n        \"samples\": [\n          126662.0,\n          2.5121425526203596,\n          3.0\n        ],\n        \"semantic_type\": \"\",\n        \"description\": \"\"\n      }\n    },\n    {\n      \"column\": \"sexe\",\n      \"properties\": {\n        \"dtype\": \"number\",\n        \"std\": 44781.43431664435,\n        \"min\": -1.0,\n        \"max\": 126662.0,\n        \"num_unique_values\": 6,\n        \"samples\": [\n          126662.0,\n          1.2655492570778923,\n          2.0\n        ],\n        \"semantic_type\": \"\",\n        \"description\": \"\"\n      }\n    },\n    {\n      \"column\": \"an_nais\",\n      \"properties\": {\n        \"dtype\": \"number\",\n        \"std\": 43170.418772232755,\n        \"min\": 18.98923828933723,\n        \"max\": 123788.0,\n        \"num_unique_values\": 8,\n        \"samples\": [\n          1983.4327560021973,\n          1987.0,\n          123788.0\n        ],\n        \"semantic_type\": \"\",\n        \"description\": \"\"\n      }\n    },\n    {\n      \"column\": \"trajet\",\n      \"properties\": {\n        \"dtype\": \"number\",\n        \"std\": 44780.62026714218,\n        \"min\": -1.0,\n        \"max\": 126662.0,\n        \"num_unique_values\": 8,\n        \"samples\": [\n          3.174748543367387,\n          4.0,\n          126662.0\n        ],\n        \"semantic_type\": \"\",\n        \"description\": \"\"\n      }\n    },\n    {\n      \"column\": \"secu1\",\n      \"properties\": {\n        \"dtype\": \"number\",\n        \"std\": 44780.964896321944,\n        \"min\": -1.0,\n        \"max\": 126662.0,\n        \"num_unique_values\": 7,\n        \"samples\": [\n          126662.0,\n          1.84758649002858,\n          2.0\n        ],\n        \"semantic_type\": \"\",\n        \"description\": \"\"\n      }\n    },\n    {\n      \"column\": \"secu2\",\n      \"properties\": {\n        \"dtype\": \"number\",\n        \"std\": 44781.234068014295,\n        \"min\": -1.0,\n        \"max\": 126662.0,\n        \"num_unique_values\": 6,\n        \"samples\": [\n          126662.0,\n          0.8446653297753075,\n          9.0\n        ],\n        \"semantic_type\": \"\",\n        \"description\": \"\"\n      }\n    },\n    {\n      \"column\": \"secu3\",\n      \"properties\": {\n        \"dtype\": \"number\",\n        \"std\": 44781.52881963108,\n        \"min\": -1.0,\n        \"max\": 126662.0,\n        \"num_unique_values\": 5,\n        \"samples\": [\n          -0.9163521813961567,\n          9.0,\n          0.883369029222465\n        ],\n        \"semantic_type\": \"\",\n        \"description\": \"\"\n      }\n    },\n    {\n      \"column\": \"locp\",\n      \"properties\": {\n        \"dtype\": \"number\",\n        \"std\": 44781.373311531876,\n        \"min\": -1.0,\n        \"max\": 126662.0,\n        \"num_unique_values\": 6,\n        \"samples\": [\n          126662.0,\n          -0.15880058739006173,\n          9.0\n        ],\n        \"semantic_type\": \"\",\n        \"description\": \"\"\n      }\n    },\n    {\n      \"column\": \"etatp\",\n      \"properties\": {\n        \"dtype\": \"number\",\n        \"std\": 44781.84091125272,\n        \"min\": -1.0,\n        \"max\": 126662.0,\n        \"num_unique_values\": 5,\n        \"samples\": [\n          -0.8298147826498871,\n          3.0,\n          0.6155461922368196\n        ],\n        \"semantic_type\": \"\",\n        \"description\": \"\"\n      }\n    }\n  ]\n}"
            }
          },
          "metadata": {},
          "execution_count": 6
        }
      ]
    },
    {
      "cell_type": "code",
      "source": [
        "!pip install pyspark"
      ],
      "metadata": {
        "colab": {
          "base_uri": "https://localhost:8080/"
        },
        "id": "NZ_xF4mR8F7Y",
        "outputId": "14eb05e6-5b23-49b0-9211-4919c7a49fcc"
      },
      "execution_count": 7,
      "outputs": [
        {
          "output_type": "stream",
          "name": "stdout",
          "text": [
            "Collecting pyspark\n",
            "  Downloading pyspark-3.5.1.tar.gz (317.0 MB)\n",
            "\u001b[2K     \u001b[90m━━━━━━━━━━━━━━━━━━━━━━━━━━━━━━━━━━━━━━━━\u001b[0m \u001b[32m317.0/317.0 MB\u001b[0m \u001b[31m4.0 MB/s\u001b[0m eta \u001b[36m0:00:00\u001b[0m\n",
            "\u001b[?25h  Preparing metadata (setup.py) ... \u001b[?25l\u001b[?25hdone\n",
            "Requirement already satisfied: py4j==0.10.9.7 in /usr/local/lib/python3.10/dist-packages (from pyspark) (0.10.9.7)\n",
            "Building wheels for collected packages: pyspark\n",
            "  Building wheel for pyspark (setup.py) ... \u001b[?25l\u001b[?25hdone\n",
            "  Created wheel for pyspark: filename=pyspark-3.5.1-py2.py3-none-any.whl size=317488491 sha256=4e7f5d8fad209c570d6d32f4f87ef69a3b1c98fbeedc8c0cc39b6462ce2493a0\n",
            "  Stored in directory: /root/.cache/pip/wheels/80/1d/60/2c256ed38dddce2fdd93be545214a63e02fbd8d74fb0b7f3a6\n",
            "Successfully built pyspark\n",
            "Installing collected packages: pyspark\n",
            "Successfully installed pyspark-3.5.1\n"
          ]
        }
      ]
    },
    {
      "cell_type": "code",
      "source": [
        "from pyspark.sql import SparkSession"
      ],
      "metadata": {
        "id": "8jJ5_WGv8HUQ"
      },
      "execution_count": 8,
      "outputs": []
    },
    {
      "cell_type": "code",
      "source": [
        "sparkApp = SparkSession.builder.appName('MyApp').getOrCreate()"
      ],
      "metadata": {
        "id": "q40JOxUL8XA4"
      },
      "execution_count": 9,
      "outputs": []
    },
    {
      "cell_type": "code",
      "source": [
        "sparkApp"
      ],
      "metadata": {
        "colab": {
          "base_uri": "https://localhost:8080/",
          "height": 221
        },
        "id": "HMME45X39HGa",
        "outputId": "ca55ad3a-d567-4b11-bb15-04692bb88ed7"
      },
      "execution_count": 10,
      "outputs": [
        {
          "output_type": "execute_result",
          "data": {
            "text/plain": [
              "<pyspark.sql.session.SparkSession at 0x7d563a918eb0>"
            ],
            "text/html": [
              "\n",
              "            <div>\n",
              "                <p><b>SparkSession - in-memory</b></p>\n",
              "                \n",
              "        <div>\n",
              "            <p><b>SparkContext</b></p>\n",
              "\n",
              "            <p><a href=\"http://c314015c162b:4040\">Spark UI</a></p>\n",
              "\n",
              "            <dl>\n",
              "              <dt>Version</dt>\n",
              "                <dd><code>v3.5.1</code></dd>\n",
              "              <dt>Master</dt>\n",
              "                <dd><code>local[*]</code></dd>\n",
              "              <dt>AppName</dt>\n",
              "                <dd><code>MyApp</code></dd>\n",
              "            </dl>\n",
              "        </div>\n",
              "        \n",
              "            </div>\n",
              "        "
            ]
          },
          "metadata": {},
          "execution_count": 10
        }
      ]
    },
    {
      "cell_type": "code",
      "source": [
        "df_spark = sparkApp.read.csv('usagers-2022.csv', sep=\";\", inferSchema=True ,header=True)"
      ],
      "metadata": {
        "id": "apFXvC_N9LbZ"
      },
      "execution_count": 17,
      "outputs": []
    },
    {
      "cell_type": "code",
      "source": [
        "df_spark.show()"
      ],
      "metadata": {
        "colab": {
          "base_uri": "https://localhost:8080/"
        },
        "id": "M8YfJXp4-b9a",
        "outputId": "5c99d3e1-4a22-484a-9ae9-1c634719af34"
      },
      "execution_count": 18,
      "outputs": [
        {
          "output_type": "stream",
          "name": "stdout",
          "text": [
            "+------------+---------+-----------+-------+-----+----+----+----+-------+------+-----+-----+-----+----+----+-----+\n",
            "|     Num_Acc|id_usager|id_vehicule|num_veh|place|catu|grav|sexe|an_nais|trajet|secu1|secu2|secu3|locp|actp|etatp|\n",
            "+------------+---------+-----------+-------+-----+----+----+----+-------+------+-----+-----+-----+----+----+-----+\n",
            "|202200000001|1 099 700|    813 952|    A01|  1.0|   1| 3.0| 1.0|   2008|   5.0|  2.0|  8.0| -1.0|-1.0|  -1| -1.0|\n",
            "|202200000001|1 099 701|    813 953|    B01|  1.0|   1| 1.0| 1.0|   1948|   5.0|  1.0|  8.0| -1.0|-1.0|  -1| -1.0|\n",
            "|202200000002|1 099 698|    813 950|    B01|  1.0|   1| 4.0| 1.0|   1988|   9.0|  1.0|  0.0| -1.0| 0.0|   0| -1.0|\n",
            "|202200000002|1 099 699|    813 951|    A01|  1.0|   1| 1.0| 1.0|   1970|   4.0|  1.0|  0.0| -1.0| 0.0|   0| -1.0|\n",
            "|202200000003|1 099 696|    813 948|    A01|  1.0|   1| 1.0| 1.0|   2002|   0.0|  1.0|  0.0| -1.0|-1.0|  -1| -1.0|\n",
            "|202200000003|1 099 697|    813 949|    B01|  1.0|   1| 4.0| 2.0|   1987|   9.0|  1.0|  0.0| -1.0|-1.0|  -1| -1.0|\n",
            "|202200000004|1 099 694|    813 947|    A01|  1.0|   1| 1.0| 2.0|   2000|   0.0|  1.0|  8.0| -1.0|-1.0|  -1| -1.0|\n",
            "|202200000004|1 099 695|    813 947|    A01| 10.0|   3| 4.0| 2.0|   1967|   5.0|  0.0| -1.0| -1.0| 2.0|   3|  1.0|\n",
            "|202200000005|1 099 692|    813 945|    B01|  1.0|   1| 1.0| 2.0|   1975|   0.0|  1.0|  0.0| -1.0|-1.0|  -1| -1.0|\n",
            "|202200000005|1 099 693|    813 946|    A01|  1.0|   1| 4.0| 2.0|   1996|   0.0|  1.0|  0.0| -1.0|-1.0|  -1| -1.0|\n",
            "|202200000006|1 099 690|    813 944|    B01|  1.0|   1| 1.0| 1.0|   1990|   4.0|  1.0|  0.0| -1.0| 0.0|   0| -1.0|\n",
            "|202200000006|1 099 691|    813 944|    B01| 10.0|   3| 4.0| 2.0|   1990|   3.0|  0.0| -1.0| -1.0| 2.0|   1|  1.0|\n",
            "|202200000007|1 099 685|    813 940|    D01|  1.0|   1| 1.0| 1.0|   1985|  -1.0|  1.0| -1.0| -1.0| 0.0|   0| -1.0|\n",
            "|202200000007|1 099 686|    813 941|    A01|  2.0|   2| 4.0| 1.0|   1999|   5.0|  8.0|  0.0| -1.0| 0.0|   0| -1.0|\n",
            "|202200000007|1 099 687|    813 941|    A01|  1.0|   1| 4.0| 2.0|   2002|   5.0|  8.0|  0.0| -1.0| 0.0|   0| -1.0|\n",
            "|202200000008|1 099 683|    813 938|    B01|  1.0|   1| 1.0| 1.0|   1979|   0.0|  1.0| -1.0| -1.0| 0.0|   0| -1.0|\n",
            "|202200000008|1 099 684|    813 939|    A01|  1.0|   1| 4.0| 1.0|   2007|   5.0|  2.0| -1.0| -1.0| 0.0|   0| -1.0|\n",
            "|202200000009|1 099 681|    813 937|    A01|  1.0|   1| 1.0| 1.0|   1962|   2.0|  1.0|  0.0| -1.0|-1.0|  -1| -1.0|\n",
            "|202200000009|1 099 682|    813 937|    A01| 10.0|   3| 4.0| 2.0|   2005|   2.0|  0.0| -1.0| -1.0| 5.0|   1|  2.0|\n",
            "|202200000010|1 099 679|    813 936|    A01| 10.0|   3| 4.0| 2.0|   2006|   0.0|  0.0| -1.0| -1.0| 2.0|   3|  1.0|\n",
            "+------------+---------+-----------+-------+-----+----+----+----+-------+------+-----+-----+-----+----+----+-----+\n",
            "only showing top 20 rows\n",
            "\n"
          ]
        }
      ]
    },
    {
      "cell_type": "code",
      "source": [
        "df_spark"
      ],
      "metadata": {
        "colab": {
          "base_uri": "https://localhost:8080/"
        },
        "id": "6ZV_XaPw9usf",
        "outputId": "08d10322-d254-49d7-d304-3836722c6570"
      },
      "execution_count": 19,
      "outputs": [
        {
          "output_type": "execute_result",
          "data": {
            "text/plain": [
              "DataFrame[Num_Acc: bigint, id_usager: string, id_vehicule: string, num_veh: string, place: double, catu: int, grav: double, sexe: double, an_nais: int, trajet: double, secu1: double, secu2: double, secu3: double, locp: double, actp: string, etatp: double]"
            ]
          },
          "metadata": {},
          "execution_count": 19
        }
      ]
    },
    {
      "cell_type": "code",
      "source": [
        "type(df_spark)"
      ],
      "metadata": {
        "id": "eZc-5hjfJW_R",
        "colab": {
          "base_uri": "https://localhost:8080/",
          "height": 204
        },
        "outputId": "f06cee0f-ff38-4f62-b930-eb615590d868"
      },
      "execution_count": 21,
      "outputs": [
        {
          "output_type": "execute_result",
          "data": {
            "text/plain": [
              "pyspark.sql.dataframe.DataFrame"
            ],
            "text/html": [
              "<div style=\"max-width:800px; border: 1px solid var(--colab-border-color);\"><style>\n",
              "      pre.function-repr-contents {\n",
              "        overflow-x: auto;\n",
              "        padding: 8px 12px;\n",
              "        max-height: 500px;\n",
              "      }\n",
              "\n",
              "      pre.function-repr-contents.function-repr-contents-collapsed {\n",
              "        cursor: pointer;\n",
              "        max-height: 100px;\n",
              "      }\n",
              "    </style>\n",
              "    <pre style=\"white-space: initial; background:\n",
              "         var(--colab-secondary-surface-color); padding: 8px 12px;\n",
              "         border-bottom: 1px solid var(--colab-border-color);\"><b>pyspark.sql.dataframe.DataFrame</b><br/>def __init__(jdf: JavaObject, sql_ctx: Union[&#x27;SQLContext&#x27;, &#x27;SparkSession&#x27;])</pre><pre class=\"function-repr-contents function-repr-contents-collapsed\" style=\"\"><a class=\"filepath\" style=\"display:none\" href=\"#\">/usr/local/lib/python3.10/dist-packages/pyspark/sql/dataframe.py</a>A distributed collection of data grouped into named columns.\n",
              "\n",
              ".. versionadded:: 1.3.0\n",
              "\n",
              ".. versionchanged:: 3.4.0\n",
              "    Supports Spark Connect.\n",
              "\n",
              "Examples\n",
              "--------\n",
              "A :class:`DataFrame` is equivalent to a relational table in Spark SQL,\n",
              "and can be created using various functions in :class:`SparkSession`:\n",
              "\n",
              "&gt;&gt;&gt; people = spark.createDataFrame([\n",
              "...     {&quot;deptId&quot;: 1, &quot;age&quot;: 40, &quot;name&quot;: &quot;Hyukjin Kwon&quot;, &quot;gender&quot;: &quot;M&quot;, &quot;salary&quot;: 50},\n",
              "...     {&quot;deptId&quot;: 1, &quot;age&quot;: 50, &quot;name&quot;: &quot;Takuya Ueshin&quot;, &quot;gender&quot;: &quot;M&quot;, &quot;salary&quot;: 100},\n",
              "...     {&quot;deptId&quot;: 2, &quot;age&quot;: 60, &quot;name&quot;: &quot;Xinrong Meng&quot;, &quot;gender&quot;: &quot;F&quot;, &quot;salary&quot;: 150},\n",
              "...     {&quot;deptId&quot;: 3, &quot;age&quot;: 20, &quot;name&quot;: &quot;Haejoon Lee&quot;, &quot;gender&quot;: &quot;M&quot;, &quot;salary&quot;: 200}\n",
              "... ])\n",
              "\n",
              "Once created, it can be manipulated using the various domain-specific-language\n",
              "(DSL) functions defined in: :class:`DataFrame`, :class:`Column`.\n",
              "\n",
              "To select a column from the :class:`DataFrame`, use the apply method:\n",
              "\n",
              "&gt;&gt;&gt; age_col = people.age\n",
              "\n",
              "A more concrete example:\n",
              "\n",
              "&gt;&gt;&gt; # To create DataFrame using SparkSession\n",
              "... department = spark.createDataFrame([\n",
              "...     {&quot;id&quot;: 1, &quot;name&quot;: &quot;PySpark&quot;},\n",
              "...     {&quot;id&quot;: 2, &quot;name&quot;: &quot;ML&quot;},\n",
              "...     {&quot;id&quot;: 3, &quot;name&quot;: &quot;Spark SQL&quot;}\n",
              "... ])\n",
              "\n",
              "&gt;&gt;&gt; people.filter(people.age &gt; 30).join(\n",
              "...     department, people.deptId == department.id).groupBy(\n",
              "...     department.name, &quot;gender&quot;).agg({&quot;salary&quot;: &quot;avg&quot;, &quot;age&quot;: &quot;max&quot;}).show()\n",
              "+-------+------+-----------+--------+\n",
              "|   name|gender|avg(salary)|max(age)|\n",
              "+-------+------+-----------+--------+\n",
              "|     ML|     F|      150.0|      60|\n",
              "|PySpark|     M|       75.0|      50|\n",
              "+-------+------+-----------+--------+\n",
              "\n",
              "Notes\n",
              "-----\n",
              "A DataFrame should only be created as described above. It should not be directly\n",
              "created via using the constructor.</pre>\n",
              "      <script>\n",
              "      if (google.colab.kernel.accessAllowed && google.colab.files && google.colab.files.view) {\n",
              "        for (const element of document.querySelectorAll('.filepath')) {\n",
              "          element.style.display = 'block'\n",
              "          element.onclick = (event) => {\n",
              "            event.preventDefault();\n",
              "            event.stopPropagation();\n",
              "            google.colab.files.view(element.textContent, 80);\n",
              "          };\n",
              "        }\n",
              "      }\n",
              "      for (const element of document.querySelectorAll('.function-repr-contents')) {\n",
              "        element.onclick = (event) => {\n",
              "          event.preventDefault();\n",
              "          event.stopPropagation();\n",
              "          element.classList.toggle('function-repr-contents-collapsed');\n",
              "        };\n",
              "      }\n",
              "      </script>\n",
              "      </div>"
            ]
          },
          "metadata": {},
          "execution_count": 21
        }
      ]
    },
    {
      "cell_type": "code",
      "source": [
        "df_spark.printSchema()"
      ],
      "metadata": {
        "colab": {
          "base_uri": "https://localhost:8080/"
        },
        "id": "9vFemJno9x6P",
        "outputId": "03734e41-ba50-477c-a1dd-585f72cf4659"
      },
      "execution_count": 22,
      "outputs": [
        {
          "output_type": "stream",
          "name": "stdout",
          "text": [
            "root\n",
            " |-- Num_Acc: long (nullable = true)\n",
            " |-- id_usager: string (nullable = true)\n",
            " |-- id_vehicule: string (nullable = true)\n",
            " |-- num_veh: string (nullable = true)\n",
            " |-- place: double (nullable = true)\n",
            " |-- catu: integer (nullable = true)\n",
            " |-- grav: double (nullable = true)\n",
            " |-- sexe: double (nullable = true)\n",
            " |-- an_nais: integer (nullable = true)\n",
            " |-- trajet: double (nullable = true)\n",
            " |-- secu1: double (nullable = true)\n",
            " |-- secu2: double (nullable = true)\n",
            " |-- secu3: double (nullable = true)\n",
            " |-- locp: double (nullable = true)\n",
            " |-- actp: string (nullable = true)\n",
            " |-- etatp: double (nullable = true)\n",
            "\n"
          ]
        }
      ]
    },
    {
      "cell_type": "code",
      "source": [
        "df_spark.columns"
      ],
      "metadata": {
        "colab": {
          "base_uri": "https://localhost:8080/"
        },
        "id": "HLlfERgMARUU",
        "outputId": "369ddfc3-bf67-4e39-8fee-610e196dcf47"
      },
      "execution_count": 23,
      "outputs": [
        {
          "output_type": "execute_result",
          "data": {
            "text/plain": [
              "['Num_Acc',\n",
              " 'id_usager',\n",
              " 'id_vehicule',\n",
              " 'num_veh',\n",
              " 'place',\n",
              " 'catu',\n",
              " 'grav',\n",
              " 'sexe',\n",
              " 'an_nais',\n",
              " 'trajet',\n",
              " 'secu1',\n",
              " 'secu2',\n",
              " 'secu3',\n",
              " 'locp',\n",
              " 'actp',\n",
              " 'etatp']"
            ]
          },
          "metadata": {},
          "execution_count": 23
        }
      ]
    },
    {
      "cell_type": "code",
      "source": [
        "df_spark.select(['sexe','Num_Acc'])"
      ],
      "metadata": {
        "colab": {
          "base_uri": "https://localhost:8080/"
        },
        "id": "8a97Y1xfAt6P",
        "outputId": "89067e10-e88e-4194-84e6-12feca6f0496"
      },
      "execution_count": 24,
      "outputs": [
        {
          "output_type": "execute_result",
          "data": {
            "text/plain": [
              "DataFrame[sexe: double, Num_Acc: bigint]"
            ]
          },
          "metadata": {},
          "execution_count": 24
        }
      ]
    },
    {
      "cell_type": "code",
      "source": [
        "from pyspark.sql.functions import when"
      ],
      "metadata": {
        "id": "8fPnYTAbAyNw"
      },
      "execution_count": 25,
      "outputs": []
    },
    {
      "cell_type": "code",
      "source": [
        "new_df = df_spark.withColumn('gender', when(df_spark['sexe'] == 1, 'Masculin').otherwise('Féminin')  )"
      ],
      "metadata": {
        "id": "VMM9Idg_A3LN"
      },
      "execution_count": 26,
      "outputs": []
    },
    {
      "cell_type": "code",
      "source": [
        "new_df.show()"
      ],
      "metadata": {
        "colab": {
          "base_uri": "https://localhost:8080/"
        },
        "id": "IMnIVOPyA57f",
        "outputId": "3e4166de-083a-4211-aeaf-412c12513fe2"
      },
      "execution_count": 27,
      "outputs": [
        {
          "output_type": "stream",
          "name": "stdout",
          "text": [
            "+------------+---------+-----------+-------+-----+----+----+----+-------+------+-----+-----+-----+----+----+-----+--------+\n",
            "|     Num_Acc|id_usager|id_vehicule|num_veh|place|catu|grav|sexe|an_nais|trajet|secu1|secu2|secu3|locp|actp|etatp|  gender|\n",
            "+------------+---------+-----------+-------+-----+----+----+----+-------+------+-----+-----+-----+----+----+-----+--------+\n",
            "|202200000001|1 099 700|    813 952|    A01|  1.0|   1| 3.0| 1.0|   2008|   5.0|  2.0|  8.0| -1.0|-1.0|  -1| -1.0|Masculin|\n",
            "|202200000001|1 099 701|    813 953|    B01|  1.0|   1| 1.0| 1.0|   1948|   5.0|  1.0|  8.0| -1.0|-1.0|  -1| -1.0|Masculin|\n",
            "|202200000002|1 099 698|    813 950|    B01|  1.0|   1| 4.0| 1.0|   1988|   9.0|  1.0|  0.0| -1.0| 0.0|   0| -1.0|Masculin|\n",
            "|202200000002|1 099 699|    813 951|    A01|  1.0|   1| 1.0| 1.0|   1970|   4.0|  1.0|  0.0| -1.0| 0.0|   0| -1.0|Masculin|\n",
            "|202200000003|1 099 696|    813 948|    A01|  1.0|   1| 1.0| 1.0|   2002|   0.0|  1.0|  0.0| -1.0|-1.0|  -1| -1.0|Masculin|\n",
            "|202200000003|1 099 697|    813 949|    B01|  1.0|   1| 4.0| 2.0|   1987|   9.0|  1.0|  0.0| -1.0|-1.0|  -1| -1.0| Féminin|\n",
            "|202200000004|1 099 694|    813 947|    A01|  1.0|   1| 1.0| 2.0|   2000|   0.0|  1.0|  8.0| -1.0|-1.0|  -1| -1.0| Féminin|\n",
            "|202200000004|1 099 695|    813 947|    A01| 10.0|   3| 4.0| 2.0|   1967|   5.0|  0.0| -1.0| -1.0| 2.0|   3|  1.0| Féminin|\n",
            "|202200000005|1 099 692|    813 945|    B01|  1.0|   1| 1.0| 2.0|   1975|   0.0|  1.0|  0.0| -1.0|-1.0|  -1| -1.0| Féminin|\n",
            "|202200000005|1 099 693|    813 946|    A01|  1.0|   1| 4.0| 2.0|   1996|   0.0|  1.0|  0.0| -1.0|-1.0|  -1| -1.0| Féminin|\n",
            "|202200000006|1 099 690|    813 944|    B01|  1.0|   1| 1.0| 1.0|   1990|   4.0|  1.0|  0.0| -1.0| 0.0|   0| -1.0|Masculin|\n",
            "|202200000006|1 099 691|    813 944|    B01| 10.0|   3| 4.0| 2.0|   1990|   3.0|  0.0| -1.0| -1.0| 2.0|   1|  1.0| Féminin|\n",
            "|202200000007|1 099 685|    813 940|    D01|  1.0|   1| 1.0| 1.0|   1985|  -1.0|  1.0| -1.0| -1.0| 0.0|   0| -1.0|Masculin|\n",
            "|202200000007|1 099 686|    813 941|    A01|  2.0|   2| 4.0| 1.0|   1999|   5.0|  8.0|  0.0| -1.0| 0.0|   0| -1.0|Masculin|\n",
            "|202200000007|1 099 687|    813 941|    A01|  1.0|   1| 4.0| 2.0|   2002|   5.0|  8.0|  0.0| -1.0| 0.0|   0| -1.0| Féminin|\n",
            "|202200000008|1 099 683|    813 938|    B01|  1.0|   1| 1.0| 1.0|   1979|   0.0|  1.0| -1.0| -1.0| 0.0|   0| -1.0|Masculin|\n",
            "|202200000008|1 099 684|    813 939|    A01|  1.0|   1| 4.0| 1.0|   2007|   5.0|  2.0| -1.0| -1.0| 0.0|   0| -1.0|Masculin|\n",
            "|202200000009|1 099 681|    813 937|    A01|  1.0|   1| 1.0| 1.0|   1962|   2.0|  1.0|  0.0| -1.0|-1.0|  -1| -1.0|Masculin|\n",
            "|202200000009|1 099 682|    813 937|    A01| 10.0|   3| 4.0| 2.0|   2005|   2.0|  0.0| -1.0| -1.0| 5.0|   1|  2.0| Féminin|\n",
            "|202200000010|1 099 679|    813 936|    A01| 10.0|   3| 4.0| 2.0|   2006|   0.0|  0.0| -1.0| -1.0| 2.0|   3|  1.0| Féminin|\n",
            "+------------+---------+-----------+-------+-----+----+----+----+-------+------+-----+-----+-----+----+----+-----+--------+\n",
            "only showing top 20 rows\n",
            "\n"
          ]
        }
      ]
    },
    {
      "cell_type": "code",
      "source": [
        "df_new = df_spark.filter(df_spark['sexe'] != -1 )"
      ],
      "metadata": {
        "id": "emvKJ_S2BIfk"
      },
      "execution_count": 28,
      "outputs": []
    },
    {
      "cell_type": "code",
      "source": [
        "df_new.groupBy('sexe').count().show()"
      ],
      "metadata": {
        "colab": {
          "base_uri": "https://localhost:8080/"
        },
        "id": "1rjtkJtQBKnu",
        "outputId": "fc6ed864-27b0-48de-b6bb-39ca82214ed9"
      },
      "execution_count": 29,
      "outputs": [
        {
          "output_type": "stream",
          "name": "stdout",
          "text": [
            "+----+-----+\n",
            "|sexe|count|\n",
            "+----+-----+\n",
            "| 1.0|84795|\n",
            "| 2.0|39123|\n",
            "+----+-----+\n",
            "\n"
          ]
        }
      ]
    },
    {
      "cell_type": "markdown",
      "source": [
        "# **Question 1: Nombre d'accidents par année de naissance**"
      ],
      "metadata": {
        "id": "tkuEvXWNBRyF"
      }
    },
    {
      "cell_type": "code",
      "source": [
        "from pyspark.sql.functions import year"
      ],
      "metadata": {
        "id": "2Xsm50cZEH7J"
      },
      "execution_count": 30,
      "outputs": []
    },
    {
      "cell_type": "code",
      "source": [
        "spark = SparkSession.builder \\\n",
        "    .appName(\"Nombre d'accidents par année de naissance\") \\\n",
        "    .getOrCreate()"
      ],
      "metadata": {
        "id": "Kk-Apsq0EQY5"
      },
      "execution_count": 31,
      "outputs": []
    },
    {
      "cell_type": "code",
      "source": [
        "# Charger les données depuis un fichier CSV\n",
        "data = spark.read.csv(\"usagers-2022.csv\", header=True, inferSchema=True, sep=\";\")"
      ],
      "metadata": {
        "id": "eEa9dUk_EVN7"
      },
      "execution_count": 42,
      "outputs": []
    },
    {
      "cell_type": "code",
      "source": [
        "data.printSchema()"
      ],
      "metadata": {
        "colab": {
          "base_uri": "https://localhost:8080/"
        },
        "id": "ZD-VEutAFMQV",
        "outputId": "38e7e281-fda5-431e-f364-95e265dfbdb4"
      },
      "execution_count": 43,
      "outputs": [
        {
          "output_type": "stream",
          "name": "stdout",
          "text": [
            "root\n",
            " |-- Num_Acc: long (nullable = true)\n",
            " |-- id_usager: string (nullable = true)\n",
            " |-- id_vehicule: string (nullable = true)\n",
            " |-- num_veh: string (nullable = true)\n",
            " |-- place: double (nullable = true)\n",
            " |-- catu: integer (nullable = true)\n",
            " |-- grav: double (nullable = true)\n",
            " |-- sexe: double (nullable = true)\n",
            " |-- an_nais: integer (nullable = true)\n",
            " |-- trajet: double (nullable = true)\n",
            " |-- secu1: double (nullable = true)\n",
            " |-- secu2: double (nullable = true)\n",
            " |-- secu3: double (nullable = true)\n",
            " |-- locp: double (nullable = true)\n",
            " |-- actp: string (nullable = true)\n",
            " |-- etatp: double (nullable = true)\n",
            "\n"
          ]
        }
      ]
    },
    {
      "cell_type": "code",
      "source": [
        "# Importer les fonctions nécessaires\n",
        "from pyspark.sql.functions import year, count"
      ],
      "metadata": {
        "id": "OFKE6P9gF92G"
      },
      "execution_count": 45,
      "outputs": []
    },
    {
      "cell_type": "code",
      "source": [
        "# Compter le nombre d'accidents par année de naissance\n",
        "accidents_par_annee_naissance = data.groupBy(\"an_nais\") \\\n",
        "                                    .agg(count(\"*\").alias(\"Nb_accidents\")) \\\n",
        "                                    .orderBy(\"an_nais\")\n",
        "\n",
        "# Afficher les résultats\n",
        "accidents_par_annee_naissance.show()\n"
      ],
      "metadata": {
        "colab": {
          "base_uri": "https://localhost:8080/"
        },
        "id": "HLbrAS9fEegv",
        "outputId": "acf8fcb5-a0a5-47ba-878a-ef58c6b66f1a"
      },
      "execution_count": 49,
      "outputs": [
        {
          "output_type": "stream",
          "name": "stdout",
          "text": [
            "+-------+------------+\n",
            "|an_nais|Nb_accidents|\n",
            "+-------+------------+\n",
            "|   NULL|        2874|\n",
            "|   1913|           4|\n",
            "|   1920|           1|\n",
            "|   1921|           2|\n",
            "|   1922|           3|\n",
            "|   1923|           2|\n",
            "|   1924|           1|\n",
            "|   1925|          12|\n",
            "|   1926|          20|\n",
            "|   1927|          32|\n",
            "|   1928|          35|\n",
            "|   1929|          68|\n",
            "|   1930|          84|\n",
            "|   1931|         116|\n",
            "|   1932|         162|\n",
            "|   1933|         182|\n",
            "|   1934|         202|\n",
            "|   1935|         234|\n",
            "|   1936|         258|\n",
            "|   1937|         287|\n",
            "+-------+------------+\n",
            "only showing top 20 rows\n",
            "\n"
          ]
        }
      ]
    },
    {
      "cell_type": "code",
      "source": [
        "# Importer les modules nécessaires\n",
        "import pandas as pd\n",
        "import matplotlib.pyplot as plt\n",
        "\n",
        "# Extraire les données et les convertir en DataFrame Pandas\n",
        "accidents_par_annee_naissance_df = accidents_par_annee_naissance.toPandas()\n",
        "\n",
        "# Créer le graphique\n",
        "plt.figure(figsize=(10, 6))\n",
        "plt.bar(accidents_par_annee_naissance_df['an_nais'], accidents_par_annee_naissance_df['Nb_accidents'])\n",
        "plt.xlabel('Année de Naissance')\n",
        "plt.ylabel('Nombre d\\'Accidents')\n",
        "plt.title('Nombre d\\'Accidents par Année de Naissance')\n",
        "plt.xticks(rotation=45)\n",
        "plt.tight_layout()\n",
        "\n",
        "# Afficher le graphique\n",
        "plt.show()"
      ],
      "metadata": {
        "colab": {
          "base_uri": "https://localhost:8080/",
          "height": 392
        },
        "id": "HEZO6c4-Gk2c",
        "outputId": "0ad70d7c-6527-4d48-b553-10cf69268ec7"
      },
      "execution_count": 50,
      "outputs": [
        {
          "output_type": "display_data",
          "data": {
            "text/plain": [
              "<Figure size 1000x600 with 1 Axes>"
            ],
            "image/png": "[encoded data removed]"
          },
          "metadata": {}
        }
      ]
    },
    {
      "cell_type": "markdown",
      "source": [
        "# **Question 2: Lieux les plus accidentés**"
      ],
      "metadata": {
        "id": "KfWDnc3-KQR7"
      }
    },
    {
      "cell_type": "code",
      "source": [
        "# Charger le fichier des lieux\n",
        "lieux = spark.read.csv(\"lieux-2022.csv\", header=True, inferSchema=True, sep=\";\")"
      ],
      "metadata": {
        "id": "aJjjXL4XG0V3"
      },
      "execution_count": 53,
      "outputs": []
    },
    {
      "cell_type": "code",
      "source": [
        "# Joindre les données d'accidents avec les données de lieux\n",
        "accidents_avec_lieux = data.join(lieux, data.Num_Acc == lieux.Num_Acc)"
      ],
      "metadata": {
        "id": "OGHXzDptHCr0"
      },
      "execution_count": 57,
      "outputs": []
    },
    {
      "cell_type": "code",
      "source": [
        "lieux.printSchema()"
      ],
      "metadata": {
        "colab": {
          "base_uri": "https://localhost:8080/"
        },
        "id": "15YBxKUxHuvn",
        "outputId": "62d27ca4-8223-4876-d271-614f86d6606f"
      },
      "execution_count": 56,
      "outputs": [
        {
          "output_type": "stream",
          "name": "stdout",
          "text": [
            "root\n",
            " |-- Num_Acc: long (nullable = true)\n",
            " |-- catr: integer (nullable = true)\n",
            " |-- voie: string (nullable = true)\n",
            " |-- v1: string (nullable = true)\n",
            " |-- v2: string (nullable = true)\n",
            " |-- circ: double (nullable = true)\n",
            " |-- nbv: string (nullable = true)\n",
            " |-- vosp: double (nullable = true)\n",
            " |-- prof: string (nullable = true)\n",
            " |-- pr: string (nullable = true)\n",
            " |-- pr1: string (nullable = true)\n",
            " |-- plan: double (nullable = true)\n",
            " |-- lartpc: string (nullable = true)\n",
            " |-- larrout: string (nullable = true)\n",
            " |-- surf: double (nullable = true)\n",
            " |-- infra: double (nullable = true)\n",
            " |-- situ: double (nullable = true)\n",
            " |-- vma: double (nullable = true)\n",
            "\n"
          ]
        }
      ]
    },
    {
      "cell_type": "code",
      "source": [
        "# Compter le nombre d'accidents par lieu\n",
        "accidents_par_lieu = accidents_avec_lieux.groupBy(\"voie\") \\\n",
        "                         .agg(count(\"*\").alias(\"Nb_accidents\")) \\\n",
        "                         .orderBy(\"Nb_accidents\", ascending=False)\n",
        "accidents_par_lieu.show()"
      ],
      "metadata": {
        "colab": {
          "base_uri": "https://localhost:8080/"
        },
        "id": "7hRRzaiRHGyU",
        "outputId": "bba614cf-9856-4cc5-85e1-44c125d1837d"
      },
      "execution_count": 63,
      "outputs": [
        {
          "output_type": "stream",
          "name": "stdout",
          "text": [
            "+-------------+------------+\n",
            "|         voie|Nb_accidents|\n",
            "+-------------+------------+\n",
            "|          N/A|        9885|\n",
            "|            1|        1240|\n",
            "|            7|         981|\n",
            "|           10|         750|\n",
            "|           A4|         730|\n",
            "| AUTOROUTE A1|         705|\n",
            "|            2|         671|\n",
            "|           13|         631|\n",
            "| AUTOROUTE A3|         586|\n",
            "|            4|         585|\n",
            "|            9|         578|\n",
            "|            6|         573|\n",
            "|AUTOROUTE A86|         521|\n",
            "|       RN 104|         520|\n",
            "|          A13|         503|\n",
            "| AUTOROUTE A6|         499|\n",
            "|           86|         486|\n",
            "|            8|         471|\n",
            "|AUTOROUTE A15|         468|\n",
            "|            5|         403|\n",
            "+-------------+------------+\n",
            "only showing top 20 rows\n",
            "\n"
          ]
        }
      ]
    },
    {
      "cell_type": "code",
      "source": [
        "# Sélectionner les 10 lieux les plus fréquents\n",
        "top_10_lieux = accidents_par_lieu.limit(10)\n",
        "\n",
        "# Convertir en DataFrame Pandas\n",
        "top_10_lieux_df = top_10_lieux.toPandas()\n",
        "\n",
        "# Créer le graphique en barres verticales\n",
        "plt.figure(figsize=(12, 8))\n",
        "plt.bar(top_10_lieux_df['voie'], top_10_lieux_df['Nb_accidents'])\n",
        "plt.xlabel('Lieu')\n",
        "plt.ylabel('Nombre d\\'Accidents')\n",
        "plt.title('Top 10 des Lieux avec le Plus d\\'Accidents')\n",
        "plt.xticks(rotation=45)\n",
        "plt.tight_layout()\n",
        "\n",
        "# Afficher le graphique\n",
        "plt.show()"
      ],
      "metadata": {
        "colab": {
          "base_uri": "https://localhost:8080/",
          "height": 435
        },
        "id": "n0PzPUyJHOmS",
        "outputId": "e77eedec-4fa3-4243-97a8-276e01b7c896"
      },
      "execution_count": 71,
      "outputs": [
        {
          "output_type": "display_data",
          "data": {
            "text/plain": [
              "<Figure size 1200x800 with 1 Axes>"
            ],
            "image/png": "[encoded data removed]"
          },
          "metadata": {}
        }
      ]
    }
  ]
}